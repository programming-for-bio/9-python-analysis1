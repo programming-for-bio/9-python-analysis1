{
 "cells": [
  {
   "cell_type": "code",
   "execution_count": 1,
   "metadata": {},
   "outputs": [],
   "source": [
    "import records"
   ]
  },
  {
   "cell_type": "code",
   "execution_count": 29,
   "metadata": {},
   "outputs": [],
   "source": [
    "#the key for reptiles, used to exclude fish and insects from being lumped in with anole lizards\n",
    "kwargs = {\"classKey\": \"358\"}\n",
    "\n",
    "ep = records.Epochs(\"Anolis\", 1950, 1971, 3, **kwargs)"
   ]
  },
  {
   "cell_type": "code",
   "execution_count": 30,
   "metadata": {},
   "outputs": [
    {
     "data": {
      "text/html": [
       "<div>\n",
       "<style scoped>\n",
       "    .dataframe tbody tr th:only-of-type {\n",
       "        vertical-align: middle;\n",
       "    }\n",
       "\n",
       "    .dataframe tbody tr th {\n",
       "        vertical-align: top;\n",
       "    }\n",
       "\n",
       "    .dataframe thead th {\n",
       "        text-align: right;\n",
       "    }\n",
       "</style>\n",
       "<table border=\"1\" class=\"dataframe\">\n",
       "  <thead>\n",
       "    <tr style=\"text-align: right;\">\n",
       "      <th></th>\n",
       "      <th>species</th>\n",
       "      <th>year</th>\n",
       "      <th>epoch</th>\n",
       "      <th>country</th>\n",
       "      <th>stateProvince</th>\n",
       "    </tr>\n",
       "  </thead>\n",
       "  <tbody>\n",
       "    <tr>\n",
       "      <th>0</th>\n",
       "      <td>Anolis carolinensis</td>\n",
       "      <td>1950</td>\n",
       "      <td>1950</td>\n",
       "      <td>United States</td>\n",
       "      <td>Georgia</td>\n",
       "    </tr>\n",
       "    <tr>\n",
       "      <th>1</th>\n",
       "      <td>Anolis carolinensis</td>\n",
       "      <td>1950</td>\n",
       "      <td>1950</td>\n",
       "      <td>United States</td>\n",
       "      <td>Florida</td>\n",
       "    </tr>\n",
       "    <tr>\n",
       "      <th>2</th>\n",
       "      <td>Anolis carolinensis</td>\n",
       "      <td>1950</td>\n",
       "      <td>1950</td>\n",
       "      <td>United States</td>\n",
       "      <td>Florida</td>\n",
       "    </tr>\n",
       "    <tr>\n",
       "      <th>3</th>\n",
       "      <td>Anolis carolinensis</td>\n",
       "      <td>1950</td>\n",
       "      <td>1950</td>\n",
       "      <td>United States</td>\n",
       "      <td>Florida</td>\n",
       "    </tr>\n",
       "    <tr>\n",
       "      <th>4</th>\n",
       "      <td>Anolis carolinensis</td>\n",
       "      <td>1950</td>\n",
       "      <td>1950</td>\n",
       "      <td>United States</td>\n",
       "      <td>Florida</td>\n",
       "    </tr>\n",
       "    <tr>\n",
       "      <th>5</th>\n",
       "      <td>Anolis carolinensis</td>\n",
       "      <td>1950</td>\n",
       "      <td>1950</td>\n",
       "      <td>United States</td>\n",
       "      <td>Florida</td>\n",
       "    </tr>\n",
       "    <tr>\n",
       "      <th>6</th>\n",
       "      <td>Anolis carolinensis</td>\n",
       "      <td>1950</td>\n",
       "      <td>1950</td>\n",
       "      <td>United States</td>\n",
       "      <td>Florida</td>\n",
       "    </tr>\n",
       "    <tr>\n",
       "      <th>7</th>\n",
       "      <td>Anolis carolinensis</td>\n",
       "      <td>1950</td>\n",
       "      <td>1950</td>\n",
       "      <td>United States</td>\n",
       "      <td>Florida</td>\n",
       "    </tr>\n",
       "    <tr>\n",
       "      <th>8</th>\n",
       "      <td>Anolis carolinensis</td>\n",
       "      <td>1950</td>\n",
       "      <td>1950</td>\n",
       "      <td>United States</td>\n",
       "      <td>Florida</td>\n",
       "    </tr>\n",
       "    <tr>\n",
       "      <th>9</th>\n",
       "      <td>Anolis sagrei</td>\n",
       "      <td>1950</td>\n",
       "      <td>1950</td>\n",
       "      <td>United States</td>\n",
       "      <td>Florida</td>\n",
       "    </tr>\n",
       "  </tbody>\n",
       "</table>\n",
       "</div>"
      ],
      "text/plain": [
       "               species  year  epoch        country stateProvince\n",
       "0  Anolis carolinensis  1950   1950  United States       Georgia\n",
       "1  Anolis carolinensis  1950   1950  United States       Florida\n",
       "2  Anolis carolinensis  1950   1950  United States       Florida\n",
       "3  Anolis carolinensis  1950   1950  United States       Florida\n",
       "4  Anolis carolinensis  1950   1950  United States       Florida\n",
       "5  Anolis carolinensis  1950   1950  United States       Florida\n",
       "6  Anolis carolinensis  1950   1950  United States       Florida\n",
       "7  Anolis carolinensis  1950   1950  United States       Florida\n",
       "8  Anolis carolinensis  1950   1950  United States       Florida\n",
       "9        Anolis sagrei  1950   1950  United States       Florida"
      ]
     },
     "execution_count": 30,
     "metadata": {},
     "output_type": "execute_result"
    }
   ],
   "source": [
    "ep.sdf.head(n = 10)"
   ]
  },
  {
   "cell_type": "code",
   "execution_count": 31,
   "metadata": {},
   "outputs": [
    {
     "data": {
      "text/html": [
       "<div>\n",
       "<style scoped>\n",
       "    .dataframe tbody tr th:only-of-type {\n",
       "        vertical-align: middle;\n",
       "    }\n",
       "\n",
       "    .dataframe tbody tr th {\n",
       "        vertical-align: top;\n",
       "    }\n",
       "\n",
       "    .dataframe thead th {\n",
       "        text-align: right;\n",
       "    }\n",
       "</style>\n",
       "<table border=\"1\" class=\"dataframe\">\n",
       "  <thead>\n",
       "    <tr style=\"text-align: right;\">\n",
       "      <th></th>\n",
       "      <th>species</th>\n",
       "      <th>year</th>\n",
       "      <th>epoch</th>\n",
       "      <th>country</th>\n",
       "      <th>stateProvince</th>\n",
       "    </tr>\n",
       "  </thead>\n",
       "  <tbody>\n",
       "    <tr>\n",
       "      <th>2393</th>\n",
       "      <td>Anolis sagrei</td>\n",
       "      <td>1971</td>\n",
       "      <td>1968</td>\n",
       "      <td>United States</td>\n",
       "      <td>Florida</td>\n",
       "    </tr>\n",
       "    <tr>\n",
       "      <th>2394</th>\n",
       "      <td>Anolis carolinensis</td>\n",
       "      <td>1971</td>\n",
       "      <td>1968</td>\n",
       "      <td>United States</td>\n",
       "      <td>Florida</td>\n",
       "    </tr>\n",
       "    <tr>\n",
       "      <th>2395</th>\n",
       "      <td>Anolis carolinensis</td>\n",
       "      <td>1971</td>\n",
       "      <td>1968</td>\n",
       "      <td>United States</td>\n",
       "      <td>Florida</td>\n",
       "    </tr>\n",
       "    <tr>\n",
       "      <th>2396</th>\n",
       "      <td>Anolis carolinensis</td>\n",
       "      <td>1971</td>\n",
       "      <td>1968</td>\n",
       "      <td>United States</td>\n",
       "      <td>Florida</td>\n",
       "    </tr>\n",
       "    <tr>\n",
       "      <th>2397</th>\n",
       "      <td>NaN</td>\n",
       "      <td>1971</td>\n",
       "      <td>1968</td>\n",
       "      <td>United States</td>\n",
       "      <td>Florida</td>\n",
       "    </tr>\n",
       "    <tr>\n",
       "      <th>2398</th>\n",
       "      <td>Anolis sagrei</td>\n",
       "      <td>1971</td>\n",
       "      <td>1968</td>\n",
       "      <td>United States</td>\n",
       "      <td>Florida</td>\n",
       "    </tr>\n",
       "    <tr>\n",
       "      <th>2399</th>\n",
       "      <td>Anolis carolinensis</td>\n",
       "      <td>1971</td>\n",
       "      <td>1968</td>\n",
       "      <td>United States</td>\n",
       "      <td>Florida</td>\n",
       "    </tr>\n",
       "    <tr>\n",
       "      <th>2400</th>\n",
       "      <td>Anolis carolinensis</td>\n",
       "      <td>1971</td>\n",
       "      <td>1968</td>\n",
       "      <td>United States</td>\n",
       "      <td>South Carolina</td>\n",
       "    </tr>\n",
       "    <tr>\n",
       "      <th>2401</th>\n",
       "      <td>Anolis carolinensis</td>\n",
       "      <td>1971</td>\n",
       "      <td>1968</td>\n",
       "      <td>United States</td>\n",
       "      <td>Florida</td>\n",
       "    </tr>\n",
       "    <tr>\n",
       "      <th>2402</th>\n",
       "      <td>Anolis distichus</td>\n",
       "      <td>1971</td>\n",
       "      <td>1968</td>\n",
       "      <td>United States</td>\n",
       "      <td>Florida</td>\n",
       "    </tr>\n",
       "  </tbody>\n",
       "</table>\n",
       "</div>"
      ],
      "text/plain": [
       "                  species  year  epoch        country   stateProvince\n",
       "2393        Anolis sagrei  1971   1968  United States         Florida\n",
       "2394  Anolis carolinensis  1971   1968  United States         Florida\n",
       "2395  Anolis carolinensis  1971   1968  United States         Florida\n",
       "2396  Anolis carolinensis  1971   1968  United States         Florida\n",
       "2397                  NaN  1971   1968  United States         Florida\n",
       "2398        Anolis sagrei  1971   1968  United States         Florida\n",
       "2399  Anolis carolinensis  1971   1968  United States         Florida\n",
       "2400  Anolis carolinensis  1971   1968  United States  South Carolina\n",
       "2401  Anolis carolinensis  1971   1968  United States         Florida\n",
       "2402     Anolis distichus  1971   1968  United States         Florida"
      ]
     },
     "execution_count": 31,
     "metadata": {},
     "output_type": "execute_result"
    }
   ],
   "source": [
    "ep.sdf.tail(n=10)"
   ]
  },
  {
   "cell_type": "code",
   "execution_count": 35,
   "metadata": {},
   "outputs": [
    {
     "name": "stdout",
     "output_type": "stream",
     "text": [
      "['Reptilia']\n",
      "(2403, 127)\n",
      "(2403, 5)\n"
     ]
    }
   ],
   "source": [
    "print(ep.df['class'].unique())\n",
    "print(ep.df.shape)\n",
    "print(ep.sdf.shape)"
   ]
  },
  {
   "cell_type": "code",
   "execution_count": 46,
   "metadata": {},
   "outputs": [
    {
     "name": "stdout",
     "output_type": "stream",
     "text": [
      "(2314, 5)\n",
      "['Anolis carolinensis' 'Anolis sagrei' 'Anolis distichus'\n",
      " 'Anolis ordinatus' 'Anolis equestris' 'Crotalus cerastes'\n",
      " 'Pantherophis guttatus' 'Anolis cybotes']\n",
      "['Georgia' 'Florida' 'Texas' 'Louisiana' 'Alabama' 'North Carolina'\n",
      " 'Hawaii' 'Arkansas' 'Oklahoma' 'South Carolina' 'Mississippi'\n",
      " 'California']\n"
     ]
    }
   ],
   "source": [
    "#totally human mark zuckerburg, definitely not a lizard\n",
    "mz = ep.sdf.dropna()\n",
    "print(mz.shape)\n",
    "print(mz['species'].unique())\n",
    "print(mz['stateProvince'].unique())"
   ]
  },
  {
   "cell_type": "code",
   "execution_count": 56,
   "metadata": {
    "scrolled": true
   },
   "outputs": [
    {
     "name": "stdout",
     "output_type": "stream",
     "text": [
      "(2310, 5)\n",
      "['Anolis carolinensis' 'Anolis sagrei' 'Anolis distichus'\n",
      " 'Anolis ordinatus' 'Anolis equestris' 'Anolis cybotes']\n"
     ]
    }
   ],
   "source": [
    "#remove non-anole reptiles...\n",
    "\n",
    "#https://stackoverflow.com/questions/27975069/how-to-filter-rows-containing-a-string-pattern-from-a-pandas-dataframe\n",
    "#df[df['ids'].str.contains(\"ball\")]\n",
    "\n",
    "mz = mz[mz['species'].str.contains(\"Anolis\")]\n",
    "print(mz.shape)\n",
    "print(mz['species'].unique())"
   ]
  },
  {
   "cell_type": "code",
   "execution_count": 58,
   "metadata": {},
   "outputs": [],
   "source": [
    "X_mz = mz['stateProvince']"
   ]
  },
  {
   "cell_type": "code",
   "execution_count": 59,
   "metadata": {},
   "outputs": [],
   "source": [
    "y_mz = mz['species']"
   ]
  },
  {
   "cell_type": "code",
   "execution_count": 63,
   "metadata": {},
   "outputs": [],
   "source": [
    "from sklearn.preprocessing import LabelEncoder\n",
    "from sklearn.preprocessing import OneHotEncoder\n",
    "LabelEncoder = LabelEncoder()\n",
    "X_int = LabelEncoder.fit_transform(X_mz)\n",
    "OnehotEncoder = OneHotEncoder(sparse = False)\n",
    "X_int = X_int.reshape(len(X_int), 1)\n",
    "newX_mz = OnehotEncoder.fit_transform(X_int)"
   ]
  },
  {
   "cell_type": "code",
   "execution_count": 66,
   "metadata": {},
   "outputs": [
    {
     "name": "stdout",
     "output_type": "stream",
     "text": [
      "(2310,)\n",
      "(2310, 11)\n"
     ]
    }
   ],
   "source": [
    "print(X_mz.shape)\n",
    "print(newX_mz.shape)"
   ]
  },
  {
   "cell_type": "code",
   "execution_count": 67,
   "metadata": {},
   "outputs": [],
   "source": [
    "from sklearn.cross_validation import train_test_split\n",
    "Xtrain, Xtest, ytrain, ytest = train_test_split(newX_mz, y_mz,\n",
    "                                                random_state=1)"
   ]
  },
  {
   "cell_type": "code",
   "execution_count": 70,
   "metadata": {},
   "outputs": [],
   "source": [
    "from sklearn.decomposition import PCA\n",
    "model = PCA(n_components = 2)\n",
    "model.fit(newX_mz)\n",
    "X_2D = model.transform(newX_mz)"
   ]
  },
  {
   "cell_type": "code",
   "execution_count": 71,
   "metadata": {},
   "outputs": [],
   "source": [
    "import seaborn as sns"
   ]
  },
  {
   "cell_type": "code",
   "execution_count": 73,
   "metadata": {},
   "outputs": [
    {
     "data": {
      "text/plain": [
       "<seaborn.axisgrid.FacetGrid at 0x2218800828>"
      ]
     },
     "execution_count": 73,
     "metadata": {},
     "output_type": "execute_result"
    },
    {
     "data": {
      "image/png": "[encoded data removed]",
      "text/plain": [
       "<Figure size 489.125x360 with 1 Axes>"
      ]
     },
     "metadata": {},
     "output_type": "display_data"
    }
   ],
   "source": [
    "mz['PCA1'] = X_2D[:,0]\n",
    "mz['PCA2'] = X_2D[:,1]\n",
    "sns.lmplot(\"PCA1\", \"PCA2\", hue = 'species', data = mz, fit_reg = False)"
   ]
  },
  {
   "cell_type": "markdown",
   "metadata": {},
   "source": [
    "Anolis carolinensis appears to be widely distributed across different states/localities in the US."
   ]
  },
  {
   "cell_type": "code",
   "execution_count": 79,
   "metadata": {},
   "outputs": [],
   "source": [
    "from sklearn.naive_bayes import GaussianNB # 1. choose model class\n",
    "model = GaussianNB()                       # 2. instantiate model\n",
    "model.fit(Xtrain, ytrain)                  # 3. fit model to data\n",
    "y_model = model.predict(Xtest)             # 4. predict on new data"
   ]
  },
  {
   "cell_type": "code",
   "execution_count": 80,
   "metadata": {
    "scrolled": true
   },
   "outputs": [
    {
     "data": {
      "text/plain": [
       "0.370242214532872"
      ]
     },
     "execution_count": 80,
     "metadata": {},
     "output_type": "execute_result"
    }
   ],
   "source": [
    "from sklearn.metrics import accuracy_score\n",
    "accuracy_score(ytest, y_model)"
   ]
  },
  {
   "cell_type": "markdown",
   "metadata": {},
   "source": [
    "low accuracy... (really just used this to follow along w/ reading)"
   ]
  },
  {
   "cell_type": "code",
   "execution_count": 81,
   "metadata": {
    "scrolled": true
   },
   "outputs": [
    {
     "data": {
      "image/png": "[encoded data removed]",
      "text/plain": [
       "<Figure size 432x288 with 1 Axes>"
      ]
     },
     "metadata": {},
     "output_type": "display_data"
    }
   ],
   "source": [
    "import matplotlib.pyplot as plt\n",
    "from sklearn.metrics import confusion_matrix\n",
    "\n",
    "mat = confusion_matrix(ytest, y_model)\n",
    "\n",
    "sns.heatmap(mat, square=True, annot=True, cbar=False)\n",
    "plt.xlabel('predicted value')\n",
    "plt.ylabel('true value');"
   ]
  },
  {
   "cell_type": "code",
   "execution_count": 82,
   "metadata": {},
   "outputs": [],
   "source": [
    "from sklearn.svm import SVC # \"Support vector classifier\"\n",
    "model = SVC(kernel='linear', C=1E10)\n",
    "model.fit(Xtrain, ytrain)                  # 3. fit model to data\n",
    "y_model = model.predict(Xtest)             # 4. predict on new data"
   ]
  },
  {
   "cell_type": "code",
   "execution_count": 83,
   "metadata": {},
   "outputs": [
    {
     "data": {
      "text/plain": [
       "0.6366782006920415"
      ]
     },
     "execution_count": 83,
     "metadata": {},
     "output_type": "execute_result"
    }
   ],
   "source": [
    "from sklearn.metrics import accuracy_score\n",
    "accuracy_score(ytest, y_model)"
   ]
  },
  {
   "cell_type": "code",
   "execution_count": 84,
   "metadata": {},
   "outputs": [
    {
     "data": {
      "image/png": "[encoded data removed]",
      "text/plain": [
       "<Figure size 432x288 with 1 Axes>"
      ]
     },
     "metadata": {},
     "output_type": "display_data"
    }
   ],
   "source": [
    "import matplotlib.pyplot as plt\n",
    "from sklearn.metrics import confusion_matrix\n",
    "\n",
    "mat = confusion_matrix(ytest, y_model)\n",
    "\n",
    "sns.heatmap(mat, square=True, annot=True, cbar=False)\n",
    "plt.xlabel('predicted value')\n",
    "plt.ylabel('true value');"
   ]
  },
  {
   "cell_type": "markdown",
   "metadata": {},
   "source": [
    "not really sure what this means...\n",
    "(possible bias toward anolis carolinensis due to widespread introduction across US localities? how did that lil boi get to hawaii!)"
   ]
  },
  {
   "cell_type": "markdown",
   "metadata": {},
   "source": [
    "## Summary"
   ]
  },
  {
   "cell_type": "markdown",
   "metadata": {},
   "source": [
    "I attempted to use state/province data to predict species names within the anole genus \"anolis\". I tried two different modelling methods, the naive gaussian method and the SVC method. The former gave a lower accuracy metric. I tried to utilize confusion matrices to further validate the models."
   ]
  },
  {
   "cell_type": "markdown",
   "metadata": {},
   "source": [
    "Useful tools included chapter 5 \"Machine Learning\" in the Python Data Science book, the scikit learn documentation, and the figure in this link (http://scikit-learn.org/stable/tutorial/machine_learning_map/index.html)"
   ]
  }
 ],
 "metadata": {
  "kernelspec": {
   "display_name": "Python 3",
   "language": "python",
   "name": "python3"
  },
  "language_info": {
   "codemirror_mode": {
    "name": "ipython",
    "version": 3
   },
   "file_extension": ".py",
   "mimetype": "text/x-python",
   "name": "python",
   "nbconvert_exporter": "python",
   "pygments_lexer": "ipython3",
   "version": "3.6.3"
  }
 },
 "nbformat": 4,
 "nbformat_minor": 2
}
