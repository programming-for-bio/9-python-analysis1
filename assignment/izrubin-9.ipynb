{
 "cells": [
  {
   "cell_type": "markdown",
   "metadata": {},
   "source": [
    "# Assignment 9: izrubin"
   ]
  },
  {
   "cell_type": "markdown",
   "metadata": {},
   "source": [
    "_Notebook for assignment 9, by Ilana Rubin. I am catching up in class, so I will come back to finish this after getting through the assignments before this one._"
   ]
  },
  {
   "cell_type": "code",
   "execution_count": 15,
   "metadata": {},
   "outputs": [
    {
     "ename": "ModuleNotFoundError",
     "evalue": "No module named 'records'",
     "output_type": "error",
     "traceback": [
      "\u001b[1;31m---------------------------------------------------------------------------\u001b[0m",
      "\u001b[1;31mModuleNotFoundError\u001b[0m                       Traceback (most recent call last)",
      "\u001b[1;32m<ipython-input-15-140c856fa816>\u001b[0m in \u001b[0;36m<module>\u001b[1;34m()\u001b[0m\n\u001b[1;32m----> 1\u001b[1;33m \u001b[1;32mimport\u001b[0m \u001b[0mrecords\u001b[0m\u001b[1;33m\u001b[0m\u001b[0m\n\u001b[0m",
      "\u001b[1;31mModuleNotFoundError\u001b[0m: No module named 'records'"
     ]
    }
   ],
   "source": [
    "import records"
   ]
  },
  {
   "cell_type": "markdown",
   "metadata": {},
   "source": [
    "\n",
    "### Assignment\n",
    "\n",
    "1. Fork the `9-python-analysis1` repository and create a new jupyter-notebook \n",
    "in the assignment directory.\n",
    "\n",
    "2. In your notebook use Markdown text to create a title and explain the content\n",
    "of your notebook to document your code. \n",
    "\n",
    "3. Use the `records` library to download a series of occurrence records for\n",
    "a taxon of your choice over a period of time, or use *Bombus* as we have been\n",
    "using in class. \n",
    "\n",
    "4. Try to apply a machine learning method from the `scikit-learn` library to \n",
    "the data in the dataframe of your `records.Epochs` object. This will involve\n",
    "the following steps. \n",
    "\n",
    "\t1. Select appropriate columns and format the data so that you have an \n",
    "\tcolumn of labels (y) and one or more columns of features (X). Then split\n",
    "\tit into a training and test data set. \n",
    "\n",
    "\t2. Select a machine learning class from scikit-learn. For this you can \n",
    "\tchoose from many available options. Look to your reading for examples, or\n",
    "\tto the scikit learn documentation. The best way is to find examples of the\n",
    "\tmodel being applied and to substitute your data in for the example data. \n",
    "\n",
    "\t3. Create an instance of that class. \n",
    "\n",
    "\t4. Train your model on your training data set (call `.fit()` with your model).\n",
    "\n",
    "\t5. Get predictions by applying your model to the test data set (call \n",
    "\t`.predict()` with your model). \n",
    "\n",
    "\t6. Measure the accuracy of your model by comparing the predicted values to\n",
    "\tthe actual labels in your test data. \n",
    "\n",
    "\t7. Describe the model that you tried to apply and the question that you \n",
    "\ttried to answer (e.g., I tried to use these features of the data to predict\n",
    "\tthis). How well do you think the model worked?\n",
    "\n",
    "5. Commit and push your notebook to the assignments directory and make a pull\n",
    "request to the class repository. \n",
    "\n"
   ]
  }
 ],
 "metadata": {
  "kernelspec": {
   "display_name": "Python 3",
   "language": "python",
   "name": "python3"
  },
  "language_info": {
   "codemirror_mode": {
    "name": "ipython",
    "version": 3
   },
   "file_extension": ".py",
   "mimetype": "text/x-python",
   "name": "python",
   "nbconvert_exporter": "python",
   "pygments_lexer": "ipython3",
   "version": "3.6.3"
  }
 },
 "nbformat": 4,
 "nbformat_minor": 2
}
