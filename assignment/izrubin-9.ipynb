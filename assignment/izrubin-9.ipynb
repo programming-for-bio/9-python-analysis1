{
 "cells": [
  {
   "cell_type": "markdown",
   "metadata": {},
   "source": [
    "# Predicting _Coccinella_ species by coordinates and year"
   ]
  },
  {
   "cell_type": "markdown",
   "metadata": {},
   "source": [
    "**Assignment 9 by izrubin**"
   ]
  },
  {
   "cell_type": "markdown",
   "metadata": {},
   "source": [
    "This is a simple demonstration of supervised machine learning to attempt to predict the occurrence of ladybug species within the _Coccinella_ genus between 1900 and 2000 in the US."
   ]
  },
  {
   "cell_type": "markdown",
   "metadata": {},
   "source": [
    "### Download occurrence records."
   ]
  },
  {
   "cell_type": "markdown",
   "metadata": {},
   "source": [
    "First, I use the `records` library to download a series of occurrence records for _Coccinella_, a genus of several ladybug species."
   ]
  },
  {
   "cell_type": "code",
   "execution_count": 1,
   "metadata": {},
   "outputs": [],
   "source": [
    "import matplotlib.pyplot as plt\n",
    "import seaborn as sns\n",
    "import records"
   ]
  },
  {
   "cell_type": "code",
   "execution_count": 2,
   "metadata": {},
   "outputs": [
    {
     "data": {
      "text/plain": [
       "(1539, 120)"
      ]
     },
     "execution_count": 2,
     "metadata": {},
     "output_type": "execute_result"
    }
   ],
   "source": [
    "# create an Epochs instance to sample 5-year intervals of Coccinella ladybugs in the U.S.\n",
    "cep = records.Epochs(\"Coccinella\", 1900, 2000, 5,  **{\"country\": \"US\"})\n",
    "cep.df.shape"
   ]
  },
  {
   "cell_type": "code",
   "execution_count": 3,
   "metadata": {},
   "outputs": [
    {
     "data": {
      "text/plain": [
       "['accessRights',\n",
       " 'associatedTaxa',\n",
       " 'basisOfRecord',\n",
       " 'bibliographicCitation',\n",
       " 'catalogNumber',\n",
       " 'class',\n",
       " 'classKey',\n",
       " 'collectionCode',\n",
       " 'collectionID',\n",
       " 'continent',\n",
       " 'coordinateUncertaintyInMeters',\n",
       " 'country',\n",
       " 'countryCode',\n",
       " 'county',\n",
       " 'crawlId',\n",
       " 'datasetKey',\n",
       " 'datasetName',\n",
       " 'dateIdentified',\n",
       " 'day',\n",
       " 'decimalLatitude',\n",
       " 'decimalLongitude',\n",
       " 'depth',\n",
       " 'disposition',\n",
       " 'dynamicProperties',\n",
       " 'elevation',\n",
       " 'elevationAccuracy',\n",
       " 'endDayOfYear',\n",
       " 'epoch',\n",
       " 'eventDate',\n",
       " 'eventRemarks',\n",
       " 'extensions',\n",
       " 'facts',\n",
       " 'family',\n",
       " 'familyKey',\n",
       " 'fieldNotes',\n",
       " 'fieldNumber',\n",
       " 'gbifID',\n",
       " 'genericName',\n",
       " 'genus',\n",
       " 'genusKey',\n",
       " 'geodeticDatum',\n",
       " 'georeferenceProtocol',\n",
       " 'georeferenceRemarks',\n",
       " 'georeferenceSources',\n",
       " 'georeferenceVerificationStatus',\n",
       " 'georeferencedBy',\n",
       " 'georeferencedDate',\n",
       " 'habitat',\n",
       " 'higherClassification',\n",
       " 'higherGeography',\n",
       " 'http://unknown.org/recordEnteredBy',\n",
       " 'http://unknown.org/recordId',\n",
       " 'identificationQualifier',\n",
       " 'identificationRemarks',\n",
       " 'identificationVerificationStatus',\n",
       " 'identifiedBy',\n",
       " 'identifier',\n",
       " 'identifiers',\n",
       " 'individualCount',\n",
       " 'infraspecificEpithet',\n",
       " 'institutionCode',\n",
       " 'institutionID',\n",
       " 'issues',\n",
       " 'key',\n",
       " 'kingdom',\n",
       " 'kingdomKey',\n",
       " 'language',\n",
       " 'lastCrawled',\n",
       " 'lastInterpreted',\n",
       " 'lastParsed',\n",
       " 'license',\n",
       " 'lifeStage',\n",
       " 'locality',\n",
       " 'locationAccordingTo',\n",
       " 'locationRemarks',\n",
       " 'media',\n",
       " 'modified',\n",
       " 'month',\n",
       " 'municipality',\n",
       " 'nomenclaturalCode',\n",
       " 'occurrenceID',\n",
       " 'occurrenceRemarks',\n",
       " 'order',\n",
       " 'orderKey',\n",
       " 'organismID',\n",
       " 'otherCatalogNumbers',\n",
       " 'ownerInstitutionCode',\n",
       " 'parentNameUsage',\n",
       " 'phylum',\n",
       " 'phylumKey',\n",
       " 'preparations',\n",
       " 'previousIdentifications',\n",
       " 'protocol',\n",
       " 'publishingCountry',\n",
       " 'publishingOrgKey',\n",
       " 'recordNumber',\n",
       " 'recordedBy',\n",
       " 'references',\n",
       " 'relations',\n",
       " 'rights',\n",
       " 'rightsHolder',\n",
       " 'samplingProtocol',\n",
       " 'scientificName',\n",
       " 'scientificNameID',\n",
       " 'sex',\n",
       " 'species',\n",
       " 'speciesKey',\n",
       " 'specificEpithet',\n",
       " 'startDayOfYear',\n",
       " 'stateProvince',\n",
       " 'taxonKey',\n",
       " 'taxonRank',\n",
       " 'type',\n",
       " 'verbatimCoordinateSystem',\n",
       " 'verbatimDepth',\n",
       " 'verbatimElevation',\n",
       " 'verbatimEventDate',\n",
       " 'verbatimLocality',\n",
       " 'vernacularName',\n",
       " 'year']"
      ]
     },
     "execution_count": 3,
     "metadata": {},
     "output_type": "execute_result"
    }
   ],
   "source": [
    "list(cep.df.columns)"
   ]
  },
  {
   "cell_type": "markdown",
   "metadata": {},
   "source": [
    "Include records for only the genus _Coccinella_."
   ]
  },
  {
   "cell_type": "code",
   "execution_count": 4,
   "metadata": {},
   "outputs": [
    {
     "data": {
      "text/plain": [
       "(1533, 120)"
      ]
     },
     "execution_count": 4,
     "metadata": {},
     "output_type": "execute_result"
    }
   ],
   "source": [
    "cep = cep.df[cep.df[\"genus\"] == \"Coccinella\"]\n",
    "cep.shape"
   ]
  },
  {
   "cell_type": "code",
   "execution_count": 5,
   "metadata": {},
   "outputs": [
    {
     "data": {
      "text/plain": [
       "array(['Coccinella transversoguttata', 'Coccinella novemnotata',\n",
       "       'Coccinella trifasciata', 'Coccinella californica',\n",
       "       'Coccinella undecimpunctata', 'Coccinella monticola', nan,\n",
       "       'Coccinella oculata', 'Coccinella prolongata',\n",
       "       'Coccinella hieroglyphica', 'Coccinella venusta',\n",
       "       'Coccinella johnsoni', 'Coccinella alta', 'Coccinella difficilis',\n",
       "       'Coccinella repanda', 'Coccinella septempunctata'], dtype=object)"
      ]
     },
     "execution_count": 5,
     "metadata": {},
     "output_type": "execute_result"
    }
   ],
   "source": [
    "cep.species.unique()"
   ]
  },
  {
   "cell_type": "markdown",
   "metadata": {},
   "source": [
    "### Select appropriate columns and format the data so that you have a column of labels (y) and one or more columns of features (X)."
   ]
  },
  {
   "cell_type": "code",
   "execution_count": 6,
   "metadata": {},
   "outputs": [
    {
     "data": {
      "text/html": [
       "<div>\n",
       "<style scoped>\n",
       "    .dataframe tbody tr th:only-of-type {\n",
       "        vertical-align: middle;\n",
       "    }\n",
       "\n",
       "    .dataframe tbody tr th {\n",
       "        vertical-align: top;\n",
       "    }\n",
       "\n",
       "    .dataframe thead th {\n",
       "        text-align: right;\n",
       "    }\n",
       "</style>\n",
       "<table border=\"1\" class=\"dataframe\">\n",
       "  <thead>\n",
       "    <tr style=\"text-align: right;\">\n",
       "      <th></th>\n",
       "      <th>species</th>\n",
       "      <th>decimalLatitude</th>\n",
       "      <th>decimalLongitude</th>\n",
       "      <th>year</th>\n",
       "    </tr>\n",
       "  </thead>\n",
       "  <tbody>\n",
       "    <tr>\n",
       "      <th>0</th>\n",
       "      <td>Coccinella transversoguttata</td>\n",
       "      <td>39.739154</td>\n",
       "      <td>-104.984703</td>\n",
       "      <td>1902</td>\n",
       "    </tr>\n",
       "    <tr>\n",
       "      <th>1</th>\n",
       "      <td>Coccinella novemnotata</td>\n",
       "      <td>39.683723</td>\n",
       "      <td>-75.749657</td>\n",
       "      <td>1903</td>\n",
       "    </tr>\n",
       "    <tr>\n",
       "      <th>2</th>\n",
       "      <td>Coccinella novemnotata</td>\n",
       "      <td>42.441000</td>\n",
       "      <td>-76.497000</td>\n",
       "      <td>1904</td>\n",
       "    </tr>\n",
       "    <tr>\n",
       "      <th>3</th>\n",
       "      <td>Coccinella novemnotata</td>\n",
       "      <td>42.441000</td>\n",
       "      <td>-76.497000</td>\n",
       "      <td>1904</td>\n",
       "    </tr>\n",
       "    <tr>\n",
       "      <th>4</th>\n",
       "      <td>Coccinella novemnotata</td>\n",
       "      <td>42.441000</td>\n",
       "      <td>-76.497000</td>\n",
       "      <td>1904</td>\n",
       "    </tr>\n",
       "    <tr>\n",
       "      <th>5</th>\n",
       "      <td>Coccinella novemnotata</td>\n",
       "      <td>42.441000</td>\n",
       "      <td>-76.497000</td>\n",
       "      <td>1904</td>\n",
       "    </tr>\n",
       "    <tr>\n",
       "      <th>6</th>\n",
       "      <td>Coccinella novemnotata</td>\n",
       "      <td>46.344000</td>\n",
       "      <td>-122.528000</td>\n",
       "      <td>1907</td>\n",
       "    </tr>\n",
       "    <tr>\n",
       "      <th>7</th>\n",
       "      <td>Coccinella transversoguttata</td>\n",
       "      <td>39.987200</td>\n",
       "      <td>-107.616100</td>\n",
       "      <td>1909</td>\n",
       "    </tr>\n",
       "    <tr>\n",
       "      <th>8</th>\n",
       "      <td>Coccinella trifasciata</td>\n",
       "      <td>47.612640</td>\n",
       "      <td>-122.325680</td>\n",
       "      <td>1909</td>\n",
       "    </tr>\n",
       "    <tr>\n",
       "      <th>9</th>\n",
       "      <td>Coccinella trifasciata</td>\n",
       "      <td>47.612640</td>\n",
       "      <td>-122.325680</td>\n",
       "      <td>1909</td>\n",
       "    </tr>\n",
       "  </tbody>\n",
       "</table>\n",
       "</div>"
      ],
      "text/plain": [
       "                        species  decimalLatitude  decimalLongitude  year\n",
       "0  Coccinella transversoguttata        39.739154       -104.984703  1902\n",
       "1        Coccinella novemnotata        39.683723        -75.749657  1903\n",
       "2        Coccinella novemnotata        42.441000        -76.497000  1904\n",
       "3        Coccinella novemnotata        42.441000        -76.497000  1904\n",
       "4        Coccinella novemnotata        42.441000        -76.497000  1904\n",
       "5        Coccinella novemnotata        42.441000        -76.497000  1904\n",
       "6        Coccinella novemnotata        46.344000       -122.528000  1907\n",
       "7  Coccinella transversoguttata        39.987200       -107.616100  1909\n",
       "8        Coccinella trifasciata        47.612640       -122.325680  1909\n",
       "9        Coccinella trifasciata        47.612640       -122.325680  1909"
      ]
     },
     "execution_count": 6,
     "metadata": {},
     "output_type": "execute_result"
    }
   ],
   "source": [
    "cep = cep[['species', 'decimalLatitude', 'decimalLongitude', 'year']]\n",
    "cep.head(10)"
   ]
  },
  {
   "cell_type": "markdown",
   "metadata": {},
   "source": [
    "Drop rows with NA values."
   ]
  },
  {
   "cell_type": "code",
   "execution_count": 7,
   "metadata": {},
   "outputs": [
    {
     "data": {
      "text/plain": [
       "(1236, 4)"
      ]
     },
     "execution_count": 7,
     "metadata": {},
     "output_type": "execute_result"
    }
   ],
   "source": [
    "cep = cep.dropna()\n",
    "cep.shape"
   ]
  },
  {
   "cell_type": "markdown",
   "metadata": {},
   "source": [
    "**Feature matrix (X)**"
   ]
  },
  {
   "cell_type": "code",
   "execution_count": 8,
   "metadata": {},
   "outputs": [
    {
     "data": {
      "text/plain": [
       "(1236, 3)"
      ]
     },
     "execution_count": 8,
     "metadata": {},
     "output_type": "execute_result"
    }
   ],
   "source": [
    "X_cep = cep.drop('species', axis=1)\n",
    "X_cep.shape"
   ]
  },
  {
   "cell_type": "code",
   "execution_count": 9,
   "metadata": {},
   "outputs": [
    {
     "data": {
      "text/html": [
       "<div>\n",
       "<style scoped>\n",
       "    .dataframe tbody tr th:only-of-type {\n",
       "        vertical-align: middle;\n",
       "    }\n",
       "\n",
       "    .dataframe tbody tr th {\n",
       "        vertical-align: top;\n",
       "    }\n",
       "\n",
       "    .dataframe thead th {\n",
       "        text-align: right;\n",
       "    }\n",
       "</style>\n",
       "<table border=\"1\" class=\"dataframe\">\n",
       "  <thead>\n",
       "    <tr style=\"text-align: right;\">\n",
       "      <th></th>\n",
       "      <th>decimalLatitude</th>\n",
       "      <th>decimalLongitude</th>\n",
       "      <th>year</th>\n",
       "    </tr>\n",
       "  </thead>\n",
       "  <tbody>\n",
       "    <tr>\n",
       "      <th>0</th>\n",
       "      <td>39.739154</td>\n",
       "      <td>-104.984703</td>\n",
       "      <td>1902</td>\n",
       "    </tr>\n",
       "    <tr>\n",
       "      <th>1</th>\n",
       "      <td>39.683723</td>\n",
       "      <td>-75.749657</td>\n",
       "      <td>1903</td>\n",
       "    </tr>\n",
       "    <tr>\n",
       "      <th>2</th>\n",
       "      <td>42.441000</td>\n",
       "      <td>-76.497000</td>\n",
       "      <td>1904</td>\n",
       "    </tr>\n",
       "    <tr>\n",
       "      <th>3</th>\n",
       "      <td>42.441000</td>\n",
       "      <td>-76.497000</td>\n",
       "      <td>1904</td>\n",
       "    </tr>\n",
       "    <tr>\n",
       "      <th>4</th>\n",
       "      <td>42.441000</td>\n",
       "      <td>-76.497000</td>\n",
       "      <td>1904</td>\n",
       "    </tr>\n",
       "  </tbody>\n",
       "</table>\n",
       "</div>"
      ],
      "text/plain": [
       "   decimalLatitude  decimalLongitude  year\n",
       "0        39.739154       -104.984703  1902\n",
       "1        39.683723        -75.749657  1903\n",
       "2        42.441000        -76.497000  1904\n",
       "3        42.441000        -76.497000  1904\n",
       "4        42.441000        -76.497000  1904"
      ]
     },
     "execution_count": 9,
     "metadata": {},
     "output_type": "execute_result"
    }
   ],
   "source": [
    "X_cep.head()"
   ]
  },
  {
   "cell_type": "markdown",
   "metadata": {},
   "source": [
    "**Target vector (y)**"
   ]
  },
  {
   "cell_type": "code",
   "execution_count": 10,
   "metadata": {},
   "outputs": [
    {
     "data": {
      "text/plain": [
       "(1236,)"
      ]
     },
     "execution_count": 10,
     "metadata": {},
     "output_type": "execute_result"
    }
   ],
   "source": [
    "y_cep = cep['species']\n",
    "y_cep.shape"
   ]
  },
  {
   "cell_type": "code",
   "execution_count": 11,
   "metadata": {},
   "outputs": [
    {
     "data": {
      "text/plain": [
       "0    Coccinella transversoguttata\n",
       "1          Coccinella novemnotata\n",
       "2          Coccinella novemnotata\n",
       "3          Coccinella novemnotata\n",
       "4          Coccinella novemnotata\n",
       "Name: species, dtype: object"
      ]
     },
     "execution_count": 11,
     "metadata": {},
     "output_type": "execute_result"
    }
   ],
   "source": [
    "y_cep.head()"
   ]
  },
  {
   "cell_type": "markdown",
   "metadata": {},
   "source": [
    "### Split data into training and test data sets."
   ]
  },
  {
   "cell_type": "code",
   "execution_count": 12,
   "metadata": {},
   "outputs": [],
   "source": [
    "from sklearn.model_selection import train_test_split\n",
    "Xtrain, Xtest, ytrain, ytest = train_test_split(X_cep, y_cep, random_state=1)"
   ]
  },
  {
   "cell_type": "markdown",
   "metadata": {},
   "source": [
    "### Select a machine learning class from scikit-learn."
   ]
  },
  {
   "cell_type": "markdown",
   "metadata": {},
   "source": [
    "I selected the Gaussian naive Bayes generative model from scikit-learn, in order to predict species classification from the variables of the feature matrix."
   ]
  },
  {
   "cell_type": "code",
   "execution_count": 13,
   "metadata": {},
   "outputs": [],
   "source": [
    "from sklearn.naive_bayes import GaussianNB"
   ]
  },
  {
   "cell_type": "markdown",
   "metadata": {},
   "source": [
    "### Create an instance of that class."
   ]
  },
  {
   "cell_type": "markdown",
   "metadata": {},
   "source": [
    "There are no required hyperparameters for this model."
   ]
  },
  {
   "cell_type": "code",
   "execution_count": 14,
   "metadata": {},
   "outputs": [],
   "source": [
    "model = GaussianNB()"
   ]
  },
  {
   "cell_type": "markdown",
   "metadata": {},
   "source": [
    "### Train the model on the training data set."
   ]
  },
  {
   "cell_type": "code",
   "execution_count": 15,
   "metadata": {},
   "outputs": [
    {
     "data": {
      "text/plain": [
       "GaussianNB(priors=None)"
      ]
     },
     "execution_count": 15,
     "metadata": {},
     "output_type": "execute_result"
    }
   ],
   "source": [
    "model.fit(Xtrain, ytrain)"
   ]
  },
  {
   "cell_type": "markdown",
   "metadata": {},
   "source": [
    "### Get predictions by applying your model to the test data set."
   ]
  },
  {
   "cell_type": "code",
   "execution_count": 16,
   "metadata": {},
   "outputs": [],
   "source": [
    "y_model = model.predict(Xtest)"
   ]
  },
  {
   "cell_type": "markdown",
   "metadata": {},
   "source": [
    "### Measure the accuracy of your model by comparing the predicted values to the actual labels in your test data."
   ]
  },
  {
   "cell_type": "code",
   "execution_count": 17,
   "metadata": {},
   "outputs": [
    {
     "data": {
      "text/plain": [
       "0.44660194174757284"
      ]
     },
     "execution_count": 17,
     "metadata": {},
     "output_type": "execute_result"
    }
   ],
   "source": [
    "from sklearn.metrics import accuracy_score\n",
    "accuracy_score(ytest, y_model)"
   ]
  },
  {
   "cell_type": "markdown",
   "metadata": {},
   "source": [
    "### Describe the model that you tried to apply and the question that you tried to answer. How well do you think the model worked?"
   ]
  },
  {
   "cell_type": "markdown",
   "metadata": {},
   "source": [
    "I tried predicting the species of _Coccinella_ (a genus of ladybugs) based on latitude, longitude, and year via the scikit-learn Gaussian naive Bayes generative model. The model was only 44.7% accurate, but that is not unexpected. This could be improved with the inclusion of additional features/explanatory variables and a more complex model. A few other factors that could improve the accuracy could include the concentration of certain pesticide chemicals in nearby air/water/soil, occurrence of aphids or other prey species, competitor species (of other ladybug genera), whether the species was introduced or native, habitat (the habitat values in these record were not uniformaly coded).\n",
    "\n",
    "The Data Science Handbook page about [Naive Bayes Classification](https://jakevdp.github.io/PythonDataScienceHandbook/05.05-naive-bayes.html) was a useful resource when completing this assignment."
   ]
  }
 ],
 "metadata": {
  "kernelspec": {
   "display_name": "Python 3",
   "language": "python",
   "name": "python3"
  },
  "language_info": {
   "codemirror_mode": {
    "name": "ipython",
    "version": 3
   },
   "file_extension": ".py",
   "mimetype": "text/x-python",
   "name": "python",
   "nbconvert_exporter": "python",
   "pygments_lexer": "ipython3",
   "version": "3.6.5"
  }
 },
 "nbformat": 4,
 "nbformat_minor": 2
}
