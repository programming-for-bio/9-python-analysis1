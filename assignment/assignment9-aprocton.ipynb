{
 "cells": [
  {
   "cell_type": "markdown",
   "metadata": {},
   "source": [
    "# Assignment 9\n",
    "### Alexander M. Procton // 4.2.18\n",
    "\n",
    "For this machine learning assignment, I tried to use train a Gaussian naive Bayes classifier to identify *Accipiter* hawks in the United States by species. Three species of *Accipiter* live in the USA, Cooper's hawk (*A. cooperii*), the northern goshawk (*A. gracilis*), and the sharp-shinned hawk (*A. striatus*). I downloaded GBIF data matching the query \"Acciptiter\" from 1960 to 2010 and used `scikit-learn` to implement supervised classification."
   ]
  },
  {
   "cell_type": "code",
   "execution_count": 2,
   "metadata": {},
   "outputs": [],
   "source": [
    "import numpy as np\n",
    "import pandas as pd\n",
    "\n",
    "from records import Records"
   ]
  },
  {
   "cell_type": "markdown",
   "metadata": {},
   "source": [
    "__1. Download Accipiter records from 1960 to 2010__"
   ]
  },
  {
   "cell_type": "code",
   "execution_count": 3,
   "metadata": {},
   "outputs": [],
   "source": [
    "# instantiate Records object\n",
    "data = Records(\"Accipiter\", (1960, 2010))"
   ]
  },
  {
   "cell_type": "markdown",
   "metadata": {},
   "source": [
    "__2. Clean the data to remove non *Accipiter* specimens and n/a input__"
   ]
  },
  {
   "cell_type": "code",
   "execution_count": 17,
   "metadata": {},
   "outputs": [],
   "source": [
    "# subset to features and target variables\n",
    "subset = data.df[data.df['genus'] == 'Accipiter']\n",
    "subset = subset[['decimalLatitude', 'decimalLongitude', 'species']]\n",
    "\n",
    "# remove cases with nan\n",
    "subset = subset.dropna(axis = 0, how = 'any')"
   ]
  },
  {
   "cell_type": "markdown",
   "metadata": {},
   "source": [
    "__3. Create features and targets for machine learning and split into training and evaluation sets__"
   ]
  },
  {
   "cell_type": "code",
   "execution_count": 19,
   "metadata": {},
   "outputs": [],
   "source": [
    "# create features matrix with lat, long, and elevation\n",
    "X = subset.drop('species', axis = 1)\n",
    "\n",
    "# create target array with species\n",
    "y = subset['species']\n",
    "\n",
    "# split X and y into training and test data\n",
    "from sklearn.model_selection import train_test_split\n",
    "Xtrain, Xtest, ytrain, ytest = train_test_split(X, y, random_state=1)"
   ]
  },
  {
   "cell_type": "markdown",
   "metadata": {},
   "source": [
    "__4. Run and evaluate model__"
   ]
  },
  {
   "cell_type": "code",
   "execution_count": 20,
   "metadata": {},
   "outputs": [],
   "source": [
    "# instantiate naive Bayes classifier\n",
    "from sklearn.naive_bayes import GaussianNB\n",
    "model = GaussianNB()\n",
    "\n",
    "# fit model and classify Xtest\n",
    "model.fit(Xtrain, ytrain)\n",
    "y_model = model.predict(Xtest)"
   ]
  },
  {
   "cell_type": "code",
   "execution_count": 21,
   "metadata": {},
   "outputs": [
    {
     "data": {
      "text/plain": [
       "0.5008130081300813"
      ]
     },
     "execution_count": 21,
     "metadata": {},
     "output_type": "execute_result"
    }
   ],
   "source": [
    "from sklearn.metrics import accuracy_score\n",
    "accuracy_score(ytest, y_model)"
   ]
  },
  {
   "cell_type": "code",
   "execution_count": 25,
   "metadata": {},
   "outputs": [
    {
     "data": {
      "image/png": "[encoded data removed]",
      "text/plain": [
       "<Figure size 432x288 with 1 Axes>"
      ]
     },
     "metadata": {},
     "output_type": "display_data"
    }
   ],
   "source": [
    "from sklearn.metrics import confusion_matrix\n",
    "import matplotlib.pyplot as plt\n",
    "import seaborn as sns\n",
    "\n",
    "mat = confusion_matrix(ytest, y_model)\n",
    "\n",
    "sns.heatmap(mat, square=True, annot=True, cbar=False)\n",
    "plt.xlabel('predicted value')\n",
    "plt.ylabel('true value');"
   ]
  },
  {
   "cell_type": "markdown",
   "metadata": {},
   "source": [
    "The naive Bayes classifier had trouble distinguishing Cooper's hawks (*A. cooperii*, 0 in figure) and sharp-shinned hawks ((*A. striatus*, 2 in figure) on the basis of latitude and longitude. The goshawk, which tends to live at more northern latitudes, was not well-represented in the dataset, which made it difficult to distinguish from its relatives. These factors contribute to the  low accuracy score of 0.5 (we could almost do as well randomly guessing Cooper's or sharp-shinned on the basis of a coin flip). I had originally hoped to use more features, such as elevation, for this classification, but GBIF categories were limited and many elevation records for *Accipiter* specimens were `nan`."
   ]
  }
 ],
 "metadata": {
  "kernelspec": {
   "display_name": "Python 3",
   "language": "python",
   "name": "python3"
  },
  "language_info": {
   "codemirror_mode": {
    "name": "ipython",
    "version": 3
   },
   "file_extension": ".py",
   "mimetype": "text/x-python",
   "name": "python",
   "nbconvert_exporter": "python",
   "pygments_lexer": "ipython3",
   "version": "3.6.3"
  }
 },
 "nbformat": 4,
 "nbformat_minor": 2
}
